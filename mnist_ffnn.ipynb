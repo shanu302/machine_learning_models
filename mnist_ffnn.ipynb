{
 "cells": [
  {
   "cell_type": "code",
   "execution_count": 1,
   "metadata": {},
   "outputs": [],
   "source": [
    "import tensorflow as tf\n",
    "import math\n",
    "import numpy as np\n",
    "from tensorflow.examples.tutorials.mnist import input_data\n",
    "import math\n",
    "import os\n",
    "import random\n",
    "from tensorflow.python.framework import ops"
   ]
  },
  {
   "cell_type": "code",
   "execution_count": 2,
   "metadata": {},
   "outputs": [],
   "source": [
    "log_path = ' logs/'\n",
    "batch_size = 100\n",
    "epoch = 10\n",
    "learning_rate = 0.003\n",
    "display_epoch = 1"
   ]
  },
  {
   "cell_type": "code",
   "execution_count": 3,
   "metadata": {},
   "outputs": [
    {
     "name": "stdout",
     "output_type": "stream",
     "text": [
      "WARNING:tensorflow:From <ipython-input-3-428b9f6c799b>:4: read_data_sets (from tensorflow.contrib.learn.python.learn.datasets.mnist) is deprecated and will be removed in a future version.\n",
      "Instructions for updating:\n",
      "Please use alternatives such as official/mnist/dataset.py from tensorflow/models.\n",
      "WARNING:tensorflow:From /usr/local/lib/python3.6/site-packages/tensorflow/contrib/learn/python/learn/datasets/mnist.py:260: maybe_download (from tensorflow.contrib.learn.python.learn.datasets.base) is deprecated and will be removed in a future version.\n",
      "Instructions for updating:\n",
      "Please write your own downloading logic.\n",
      "WARNING:tensorflow:From /usr/local/lib/python3.6/site-packages/tensorflow/contrib/learn/python/learn/datasets/mnist.py:262: extract_images (from tensorflow.contrib.learn.python.learn.datasets.mnist) is deprecated and will be removed in a future version.\n",
      "Instructions for updating:\n",
      "Please use tf.data to implement this functionality.\n",
      "Extracting temp/train-images-idx3-ubyte.gz\n",
      "WARNING:tensorflow:From /usr/local/lib/python3.6/site-packages/tensorflow/contrib/learn/python/learn/datasets/mnist.py:267: extract_labels (from tensorflow.contrib.learn.python.learn.datasets.mnist) is deprecated and will be removed in a future version.\n",
      "Instructions for updating:\n",
      "Please use tf.data to implement this functionality.\n",
      "Extracting temp/train-labels-idx1-ubyte.gz\n",
      "WARNING:tensorflow:From /usr/local/lib/python3.6/site-packages/tensorflow/contrib/learn/python/learn/datasets/mnist.py:110: dense_to_one_hot (from tensorflow.contrib.learn.python.learn.datasets.mnist) is deprecated and will be removed in a future version.\n",
      "Instructions for updating:\n",
      "Please use tf.one_hot on tensors.\n",
      "Extracting temp/t10k-images-idx3-ubyte.gz\n",
      "Extracting temp/t10k-labels-idx1-ubyte.gz\n",
      "WARNING:tensorflow:From /usr/local/lib/python3.6/site-packages/tensorflow/contrib/learn/python/learn/datasets/mnist.py:290: DataSet.__init__ (from tensorflow.contrib.learn.python.learn.datasets.mnist) is deprecated and will be removed in a future version.\n",
      "Instructions for updating:\n",
      "Please use alternatives such as official/mnist/dataset.py from tensorflow/models.\n"
     ]
    }
   ],
   "source": [
    "dataPath = 'temp/'\n",
    "if not os.path.exists(dataPath):\n",
    "    os.makedirs(dataPath)\n",
    "mnist = input_data.read_data_sets(dataPath, one_hot = True)"
   ]
  },
  {
   "cell_type": "code",
   "execution_count": null,
   "metadata": {},
   "outputs": [],
   "source": []
  },
  {
   "cell_type": "code",
   "execution_count": 4,
   "metadata": {},
   "outputs": [
    {
     "name": "stdout",
     "output_type": "stream",
     "text": [
      "Optimization finished\n",
      "Accuracy:  0.9716\n"
     ]
    }
   ],
   "source": [
    "X = tf.placeholder(tf.float32,shape = [None,784],name = 'InputData')\n",
    "XX = tf.reshape(X,[-1,784])\n",
    "y_ = tf.placeholder(tf.float32,shape = [None,10],name = 'LabelData')\n",
    "\n",
    "L = 200\n",
    "M = 100\n",
    "N = 60\n",
    "O = 30\n",
    "P = 10\n",
    "\n",
    "W1 = tf.Variable(tf.truncated_normal([784,L],stddev = 0.1))\n",
    "B1 = tf.Variable(tf.zeros([L]))\n",
    "Y1 = tf.nn.sigmoid(tf.matmul(XX,W1) + B1)\n",
    "W2 = tf.Variable(tf.truncated_normal([L,M],stddev = 0.1))\n",
    "B2 = tf.Variable(tf.zeros([M]))\n",
    "Y2 = tf.nn.sigmoid(tf.matmul(Y1,W2) + B2)\n",
    "W3 = tf.Variable(tf.truncated_normal([M,N],stddev = 0.1))\n",
    "B3 = tf.Variable(tf.zeros([N]))\n",
    "Y3 = tf.nn.sigmoid(tf.matmul(Y2,W3) + B3)\n",
    "W4 = tf.Variable(tf.truncated_normal([N,O],stddev = 0.1))\n",
    "B4 = tf.Variable(tf.zeros([O]))\n",
    "Y4 = tf.nn.sigmoid(tf.matmul(Y3,W4) + B4)\n",
    "W5 = tf.Variable(tf.truncated_normal([O,10],stddev = 0.1))\n",
    "B5 = tf.Variable(tf.zeros([10]))\n",
    "Ylogits = tf.matmul(Y4,W5) + B5\n",
    "\n",
    "Y = tf.nn.softmax(Ylogits)\n",
    "# we can view loigts as h_theta(x) and label as y remember from machine learning \n",
    "#(h_theta(x) - y)\n",
    "#also this cross entropy is j_theta \n",
    "#we will provide it with h_theta(x) and y and it will calculate j_theta\n",
    "cross_entropy = tf.nn.softmax_cross_entropy_with_logits_v2(logits = Ylogits,labels = y_)\n",
    "#thi\n",
    "cost_op = tf.reduce_mean(cross_entropy)*100\n",
    "\n",
    "correct_predictions = tf.equal(tf.argmax(Y,1),tf.argmax(y_,1))\n",
    "\n",
    "accuracy = tf.reduce_mean(tf.cast(correct_predictions,tf.float32))\n",
    "\n",
    "train_op = tf.train.AdamOptimizer(learning_rate).minimize(cost_op)\n",
    "\n",
    "\n",
    "init_op = tf.global_variables_initializer()\n",
    "\n",
    "summary = tf.summary.scalar(\"accuracy\",accuracy)\n",
    "\n",
    "summary_op = tf.summary.merge_all()\n",
    "\n",
    "with tf.Session() as sess:\n",
    "    sess.run(init_op)\n",
    "    avg_cost = 0\n",
    "    writer = tf.summary.FileWriter(log_path,graph = tf.get_default_graph())\n",
    "    for e in range(epoch):\n",
    "        batch_count = int(mnist.train.num_examples/batch_size)\n",
    "        for i in range(batch_count):\n",
    "            batch_x ,batch_y = mnist.train.next_batch(batch_size)\n",
    "            \n",
    "            _,c,summary = sess.run([train_op, cost_op, summary_op], feed_dict={X: batch_x, y_: batch_y})\n",
    "            writer.add_summary(summary,epoch*batch_count + 1)\n",
    "            avg_cost +=c\n",
    "    print(\"Optimization finished\")\n",
    "    \n",
    "    print(\"Accuracy: \",accuracy.eval(feed_dict={X:mnist.test.images,y_:mnist.test.labels}))\n",
    "            \n",
    "            "
   ]
  },
  {
   "cell_type": "code",
   "execution_count": null,
   "metadata": {},
   "outputs": [],
   "source": []
  },
  {
   "cell_type": "code",
   "execution_count": null,
   "metadata": {},
   "outputs": [],
   "source": []
  }
 ],
 "metadata": {
  "kernelspec": {
   "display_name": "Python 3",
   "language": "python",
   "name": "python3"
  },
  "language_info": {
   "codemirror_mode": {
    "name": "ipython",
    "version": 3
   },
   "file_extension": ".py",
   "mimetype": "text/x-python",
   "name": "python",
   "nbconvert_exporter": "python",
   "pygments_lexer": "ipython3",
   "version": "3.6.5"
  }
 },
 "nbformat": 4,
 "nbformat_minor": 2
}
