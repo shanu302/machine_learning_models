{
 "cells": [
  {
   "cell_type": "code",
   "execution_count": 10,
   "metadata": {},
   "outputs": [
    {
     "data": {
      "text/plain": [
       "Text(0,0.5,'Test2')"
      ]
     },
     "execution_count": 10,
     "metadata": {},
     "output_type": "execute_result"
    },
    {
     "data": {
      "image/png": "[encoded data removed]",
      "text/plain": [
       "<Figure size 864x576 with 1 Axes>"
      ]
     },
     "metadata": {},
     "output_type": "display_data"
    }
   ],
   "source": [
    "import os\n",
    "import numpy as np\n",
    "import pandas as pd\n",
    "import scipy.optimize as opt\n",
    "import matplotlib.pyplot as plt\n",
    "from sklearn.preprocessing import PolynomialFeatures\n",
    "path = os.getcwd() + '/git/data/ex2data2.txt'\n",
    "\n",
    "data = pd.read_csv(path, header = None, names = ['Test1','Test2','Result'])\n",
    "\n",
    "data.insert(0,\"ones\",1)\n",
    "cols = data.shape[1]\n",
    "X = data.iloc[:,0:cols-1]\n",
    "y = data.iloc[:,cols-1:cols]\n",
    "theta = np.array([0,0,0])\n",
    "postive = data[data[\"Result\"].isin([1])]\n",
    "negative = data[data[\"Result\"].isin([0])]\n",
    "\n",
    "fig, ax = plt.subplots(figsize = (12,8))\n",
    "ax.scatter(postive['Test1'],postive['Test2'], c = 'r', marker = 'o', label = \"Passed\")\n",
    "ax.scatter(negative['Test1'],negative['Test2'], c = 'b', marker = 'x', label = \"Not Passed\")\n",
    "ax.legend()\n",
    "ax.set_xlabel(\"Test1\")\n",
    "ax.set_ylabel(\"Test2\")\n"
   ]
  },
  {
   "cell_type": "code",
   "execution_count": 12,
   "metadata": {},
   "outputs": [],
   "source": [
    "def sigmoid(z):\n",
    "    return 1/(1+ np.exp(-z))\n",
    "\n",
    "def costFunction(theta,X,y,reg):\n",
    "    term1 = (-1)/len(X)*(np.log(sigmoid(np.dot(X,theta))).T.dot(y) + np.log((1- sigmoid(X.dot(theta)))).T.dot(1-y))\n",
    "    reg_term = (reg/(2*len(X)))*(np.sum(np.square(theta[1:])))\n",
    "    final = term1 + reg_term\n",
    "    return final[0]\n",
    "\n",
    "def gradient(theta,X,y,reg):\n",
    "    theta = np.reshape(theta,(theta.size,1))\n",
    "    h = sigmoid(np.dot(X,theta))\n",
    "    term = (1/len(X))*(np.dot(X.T,(h - y)))\n",
    "    term[1:] = term[1:] + reg*theta[1:]/len(X)\n",
    "    return term.flatten()\n",
    "# gradient(theta,X,y,reg = 0.3)\n",
    "reg = 1\n",
    "def predict(theta, X, threshold=0.5):\n",
    "    p = sigmoid(X.dot(theta.T)) >= threshold\n",
    "    return p.astype('int')\n",
    "\n"
   ]
  },
  {
   "cell_type": "code",
   "execution_count": 42,
   "metadata": {},
   "outputs": [],
   "source": [
    "p = PolynomialFeatures(6)\n",
    "poly = p.fit_transform(data.iloc[:,1:3])\n",
    "reg = 1\n"
   ]
  },
  {
   "cell_type": "code",
   "execution_count": 37,
   "metadata": {},
   "outputs": [],
   "source": [
    "initial_theta = np.zeros(poly.shape[1])"
   ]
  },
  {
   "cell_type": "code",
   "execution_count": 38,
   "metadata": {},
   "outputs": [
    {
     "name": "stdout",
     "output_type": "stream",
     "text": [
      "Accuracy for regularization= 0.000000 is 91.525424\n",
      "Accuracy for regularization= 1.000000 is 83.050847\n",
      "Accuracy for regularization= 10.000000 is 74.576271\n",
      "Accuracy for regularization= 15.000000 is 69.491525\n",
      "Accuracy for regularization= 30.000000 is 67.796610\n",
      "Accuracy for regularization= 45.000000 is 68.644068\n",
      "Accuracy for regularization= 55.000000 is 66.101695\n",
      "Accuracy for regularization= 65.000000 is 64.406780\n",
      "Accuracy for regularization= 75.000000 is 64.406780\n",
      "Accuracy for regularization= 85.000000 is 63.559322\n",
      "Accuracy for regularization= 100.000000 is 61.016949\n"
     ]
    }
   ],
   "source": [
    "for i, reg in enumerate([0,1,10,15,30,45,55,65,75,85,100]):\n",
    "    reg = reg\n",
    "    result = opt.minimize(costFunction, initial_theta, args=(poly, y, reg), \n",
    "                  method= None, jac=gradient, options={'maxiter':10000})\n",
    "    accuracy = 100.0*sum(predict(result.x, poly) == np.ravel(y))/y.size    \n",
    "    print('Accuracy for regularization= %f is %f'%(reg,accuracy))    "
   ]
  },
  {
   "cell_type": "code",
   "execution_count": null,
   "metadata": {},
   "outputs": [],
   "source": []
  },
  {
   "cell_type": "code",
   "execution_count": null,
   "metadata": {},
   "outputs": [],
   "source": []
  }
 ],
 "metadata": {
  "kernelspec": {
   "display_name": "Python 3",
   "language": "python",
   "name": "python3"
  },
  "language_info": {
   "codemirror_mode": {
    "name": "ipython",
    "version": 3
   },
   "file_extension": ".py",
   "mimetype": "text/x-python",
   "name": "python",
   "nbconvert_exporter": "python",
   "pygments_lexer": "ipython3",
   "version": "3.6.5"
  }
 },
 "nbformat": 4,
 "nbformat_minor": 2
}
